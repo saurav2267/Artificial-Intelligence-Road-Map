{
 "cells": [
  {
   "cell_type": "markdown",
   "id": "758ff1f7",
   "metadata": {},
   "source": [
    "# Python Basics"
   ]
  },
  {
   "cell_type": "markdown",
   "id": "e860f801",
   "metadata": {},
   "source": [
    "### Python variables\n",
    "\n",
    "Variable is a container that holds data within it.\n",
    "Datatype baisically specifies the type of the declared variable.\n",
    "\n",
    "Everything is an object in python."
   ]
  },
  {
   "cell_type": "code",
   "execution_count": 1,
   "id": "9aa5f06e",
   "metadata": {},
   "outputs": [
    {
     "name": "stdout",
     "output_type": "stream",
     "text": [
      "1\n",
      "<class 'int'>\n",
      "Harry\n",
      "<class 'str'>\n",
      "True\n",
      "<class 'bool'>\n"
     ]
    }
   ],
   "source": [
    "a = 1 # Always stored in a memory\n",
    "print(a) # can access it using address\n",
    "print(type(a))\n",
    "\n",
    "# the above variable a is an integer type\n",
    "\n",
    "b = \"Harry\"\n",
    "print(b)\n",
    "print(type(b))\n",
    "\n",
    "#the above variable b is a string type\n",
    "\n",
    "c = True\n",
    "print(c)\n",
    "print(type(c))\n",
    "\n",
    "#the above variable c is of boolean type"
   ]
  },
  {
   "cell_type": "markdown",
   "id": "dc3a640c",
   "metadata": {},
   "source": [
    "To do any operations they must be of the same datatype.\n",
    "\n",
    "for example if we try to do a + b: it will present us with an error as shown below:"
   ]
  },
  {
   "cell_type": "code",
   "execution_count": 2,
   "id": "9cb22e1b",
   "metadata": {},
   "outputs": [
    {
     "ename": "TypeError",
     "evalue": "unsupported operand type(s) for +: 'int' and 'str'",
     "output_type": "error",
     "traceback": [
      "\u001b[1;31m---------------------------------------------------------------------------\u001b[0m",
      "\u001b[1;31mTypeError\u001b[0m                                 Traceback (most recent call last)",
      "\u001b[1;32m<ipython-input-2-0ae8b1612688>\u001b[0m in \u001b[0;36m<module>\u001b[1;34m\u001b[0m\n\u001b[1;32m----> 1\u001b[1;33m \u001b[0mprint\u001b[0m\u001b[1;33m(\u001b[0m\u001b[0ma\u001b[0m \u001b[1;33m+\u001b[0m \u001b[0mb\u001b[0m\u001b[1;33m)\u001b[0m\u001b[1;33m\u001b[0m\u001b[1;33m\u001b[0m\u001b[0m\n\u001b[0m",
      "\u001b[1;31mTypeError\u001b[0m: unsupported operand type(s) for +: 'int' and 'str'"
     ]
    }
   ],
   "source": [
    "print(a + b)"
   ]
  },
  {
   "cell_type": "code",
   "execution_count": 3,
   "id": "363df512",
   "metadata": {},
   "outputs": [
    {
     "name": "stdout",
     "output_type": "stream",
     "text": [
      "<class 'int'>\n",
      "<class 'int'>\n",
      "3\n",
      "<class 'int'>\n",
      "<class 'str'>\n",
      "<class 'str'>\n",
      "HarryPotter\n",
      "<class 'str'>\n"
     ]
    }
   ],
   "source": [
    "# but when we mention the same datatypes we get:\n",
    "\n",
    "a = 1\n",
    "print(type(a))\n",
    "\n",
    "b = 2\n",
    "print(type(b))\n",
    "\n",
    "print(a+b)\n",
    "print(type(a+b))\n",
    "\n",
    "# as you can see we get the sum of 2 integers as an integer again!\n",
    "\n",
    "# but if we add two strings we get to concatenate them, as shown below:\n",
    "\n",
    "str1 = \"Harry\"\n",
    "print(type(str1))\n",
    "\n",
    "str2 = \"Potter\"\n",
    "print(type(str2))\n",
    "\n",
    "print(str1+str2)\n",
    "print(type(str1+str2))"
   ]
  },
  {
   "cell_type": "markdown",
   "id": "3b5d0150",
   "metadata": {},
   "source": [
    "### Built-in DataTypes\n",
    "\n",
    "    a. Numeric Data:\n",
    "        1. Int\n",
    "        2. Float\n",
    "        3. Complex\n",
    "    b. Text Data:\n",
    "        1. String\n",
    "    c. Boolean Data:\n",
    "        1. True\n",
    "        2. False\n",
    "    d. Sequenced Data: \n",
    "        1. List\n",
    "        2. Tuple\n",
    "    e. Mapped Data:\n",
    "        1. Dictionary"
   ]
  },
  {
   "cell_type": "code",
   "execution_count": 4,
   "id": "0cd674cc",
   "metadata": {},
   "outputs": [
    {
     "name": "stdout",
     "output_type": "stream",
     "text": [
      "1.1 <class 'float'>\n",
      "1.1 <class 'int'>\n",
      "(8+2j) <class 'complex'> \n",
      "\n",
      "True <class 'bool'>\n",
      "False <class 'bool'> \n",
      "\n",
      "Harry Potter <class 'str'> \n",
      "\n",
      "None <class 'NoneType'>\n",
      "[1, 'Hello', 2.5] <class 'list'> \n",
      "\n",
      "(1, 'Hello', 2.5) <class 'tuple'> \n",
      "\n",
      "{'a': 1, 'b': 2, 'c': 3} <class 'dict'> \n",
      "\n"
     ]
    }
   ],
   "source": [
    "print(1.1,type(1.1))\n",
    "print(1.1,type(2))\n",
    "print(complex(8, 2),type(complex(8, 2)),\"\\n\")\n",
    "\n",
    "print(True,type(True))\n",
    "print(False,type(False),\"\\n\")\n",
    "\n",
    "print(\"Harry Potter\",type(\"Harry Potter\"),\"\\n\")\n",
    "\n",
    "print(None,type(None))\n",
    "\n",
    "lst = [1,\"Hello\",2.5]\n",
    "print(lst,type(lst),\"\\n\") # mutable in nature\n",
    "\n",
    "tup = (1,\"Hello\",2.5)\n",
    "print(tup,type(tup),\"\\n\") # immutable in nature\n",
    "\n",
    "Dict = {\"a\":1,\"b\":2,\"c\":3}\n",
    "print(Dict,type(Dict),\"\\n\") # Key Value Pairs, can be changed!\n"
   ]
  },
  {
   "cell_type": "markdown",
   "id": "c1f31232",
   "metadata": {},
   "source": [
    "### Some Examples of Strings functions:"
   ]
  },
  {
   "cell_type": "code",
   "execution_count": 5,
   "id": "c56b994e",
   "metadata": {},
   "outputs": [
    {
     "name": "stdout",
     "output_type": "stream",
     "text": [
      "Enter yor full name: SoulKing Yohoho\n",
      "15\n",
      "-1\n",
      "-1\n",
      "Chanakya\n",
      "BELFAST\n",
      "belfast\n",
      "False\n",
      "True\n",
      "True\n",
      "False\n",
      "5\n",
      "1*53611117*8\n"
     ]
    }
   ],
   "source": [
    "name = input(\"Enter yor full name: \") # takes the user input and prints the prompt written inside it\n",
    "\n",
    "l = len(name) # returns an integer which is the length of the name\n",
    "print(l)\n",
    "\n",
    "first = name.find(\"a\") # tell the position of the first occurence of char 'a' in name \n",
    "print(first)\n",
    "\n",
    "# remember index always starts with a 0.\n",
    "\n",
    "last = name.rfind(\"a\") # tell the position of the last occurence of char 'a' in name \n",
    "print(last)\n",
    " \n",
    "# if not found it will return -1\n",
    "\n",
    "a1 = \"chanakya\"\n",
    "print(a1.capitalize()) # will capitalize the first letter\n",
    "\n",
    "a2 = \"belfast\"\n",
    "print(a2.upper()) # all charecters become lower case\n",
    "\n",
    "a3 = \"BELFAST\"\n",
    "print(a3.lower()) # all charecters become upper case\n",
    "\n",
    "a4 = \"godzilla\"\n",
    "a5 = \"2351\"\n",
    "a6 = \"godzilla33113\"\n",
    "\n",
    "print(a4.isdigit()) # checks if it is a digit and returns either true or false\n",
    "print(a5.isdigit())\n",
    "\n",
    "print(a4.isalpha()) # checks if it contains only alphabetic charecters\n",
    "print(name.isalpha()) # it returns false if any special charecters are present like \" \" or \"#\" etc.\n",
    "\n",
    "ph = \"125361111728\"\n",
    "print(ph.count(\"1\")) # counts the total frequency of \"1\" in ph\n",
    "\n",
    "print(ph.replace(\"2\",\"*\")) # replaces \"2\" with \"*\"\n",
    "\n"
   ]
  },
  {
   "cell_type": "code",
   "execution_count": 6,
   "id": "c2f697f7",
   "metadata": {},
   "outputs": [
    {
     "name": "stdout",
     "output_type": "stream",
     "text": [
      "Enter your username: SoulKing Yohoho\n",
      "Please enter a valid Username!\n"
     ]
    }
   ],
   "source": [
    "# Exercise\n",
    "# 1. username is no more than 12 charecters\n",
    "# 2. username must not contain spaces\n",
    "# 3. usename must not contain digits\n",
    "\n",
    "username = input(\"Enter your username: \")\n",
    "\n",
    "if len(username) > 12 or username.isdigit() == True or username.isalpha() == False:\n",
    "    print(\"Please enter a valid Username!\")\n",
    "else:\n",
    "    print(username + \" Welcome!!! \")\n"
   ]
  },
  {
   "cell_type": "markdown",
   "id": "0acf6774",
   "metadata": {},
   "source": [
    "### Operators\n",
    "\n",
    "    1. Arithmetic Operators\n",
    "    2. Assignment Operators\n",
    "    3. Relational Operators\n",
    "    4. Logical Operators\n",
    "    5. Unary Operators"
   ]
  },
  {
   "cell_type": "code",
   "execution_count": 7,
   "id": "a8307ba9",
   "metadata": {},
   "outputs": [
    {
     "name": "stdout",
     "output_type": "stream",
     "text": [
      "12\n",
      "8\n",
      "20\n",
      "5.0\n",
      "5\n",
      "0\n",
      "100\n"
     ]
    }
   ],
   "source": [
    "# Arithmetic Operators\n",
    "\n",
    "x = 10\n",
    "y = 2\n",
    "\n",
    "print(x+y) # addition\n",
    "print(x-y) # subtraction\n",
    "print(x*y) # Multiplication\n",
    "print(x/y) # Division\n",
    "print(x//y) # floor division\n",
    "print(x%y) # modulus\n",
    "print(x**y) # Exponential"
   ]
  },
  {
   "cell_type": "code",
   "execution_count": 8,
   "id": "fbe2cf4c",
   "metadata": {},
   "outputs": [
    {
     "name": "stdout",
     "output_type": "stream",
     "text": [
      "12\n",
      "12\n",
      "5.0\n"
     ]
    }
   ],
   "source": [
    "# Assignment Operators\n",
    "\n",
    "x = 10\n",
    "x += 2 # has the same meaning as x = x + 2\n",
    "print(x)\n",
    "\n",
    "y = 10\n",
    "y += 2 # has the same meaning as y = y - 2\n",
    "print(y)\n",
    "\n",
    "x = 10\n",
    "x /= 2 # has the same meaning as x = x / 2\n",
    "print(x)"
   ]
  },
  {
   "cell_type": "code",
   "execution_count": 9,
   "id": "e60c9acb",
   "metadata": {},
   "outputs": [
    {
     "name": "stdout",
     "output_type": "stream",
     "text": [
      "-7\n"
     ]
    }
   ],
   "source": [
    "# Unary Operator\n",
    "\n",
    "x = 7\n",
    "x = -x\n",
    "\n",
    "print(x) # we can see that we changed the sign of x (i.e, negating it)"
   ]
  },
  {
   "cell_type": "code",
   "execution_count": 10,
   "id": "a1f45791",
   "metadata": {},
   "outputs": [
    {
     "name": "stdout",
     "output_type": "stream",
     "text": [
      "False\n",
      "True\n",
      "False\n",
      "True\n",
      "False\n",
      "True\n"
     ]
    }
   ],
   "source": [
    "# Relational Operators\n",
    "\n",
    "x = 10\n",
    "y = 11\n",
    "\n",
    "print(x == y) # Equal Operator\n",
    "print(x != y) # Not Equal Operator\n",
    "print(x > y) # Greater than Operator\n",
    "print(x < y) # Less than Operator\n",
    "print(x >= y) # Greater than or equal to Operator\n",
    "print(x <= y) # Less than or equal to Operator"
   ]
  },
  {
   "cell_type": "code",
   "execution_count": 11,
   "id": "191da95f",
   "metadata": {},
   "outputs": [
    {
     "name": "stdout",
     "output_type": "stream",
     "text": [
      "False\n",
      "True\n",
      "True\n"
     ]
    }
   ],
   "source": [
    "# Logical Operators\n",
    "\n",
    "x = 6\n",
    "\n",
    "print(x < 5 and  x < 10) # \"AND Operator\" both conditions have to be true\n",
    "print(x < 5 or x < 7) # \"OR Operator\" either one condition has to be true\n",
    "print(not(x < 5 and x < 10))# \"NOT Operator\" returns False if the result is true"
   ]
  },
  {
   "attachments": {
    "image.png": {
     "image/png": "[encoded data removed]"
    }
   },
   "cell_type": "markdown",
   "id": "063816a1",
   "metadata": {},
   "source": [
    "#### Precedence Order of the Operators\n",
    "\n",
    "![image.png](attachment:image.png)"
   ]
  },
  {
   "cell_type": "markdown",
   "id": "ce888388",
   "metadata": {},
   "source": [
    "### Conditionals and Booleans"
   ]
  },
  {
   "cell_type": "code",
   "execution_count": 12,
   "id": "171364b9",
   "metadata": {},
   "outputs": [
    {
     "name": "stdout",
     "output_type": "stream",
     "text": [
      "condition was True\n"
     ]
    }
   ],
   "source": [
    "# simple Example illustratign if - else\n",
    "\n",
    "if True:\n",
    "    print(\"condition was True\")\n",
    "else:\n",
    "    print(\"condition was False\")"
   ]
  },
  {
   "cell_type": "code",
   "execution_count": 13,
   "id": "44a854e6",
   "metadata": {},
   "outputs": [
    {
     "name": "stdout",
     "output_type": "stream",
     "text": [
      "a is greater than b\n"
     ]
    }
   ],
   "source": [
    "# simple example for if-elif-else\n",
    "\n",
    "a = 200\n",
    "b = 33\n",
    "if b > a:\n",
    "  print(\"b is greater than a\")\n",
    "elif a == b:\n",
    "  print(\"a and b are equal\")\n",
    "else:\n",
    "  print(\"a is greater than b\")"
   ]
  },
  {
   "cell_type": "code",
   "execution_count": 14,
   "id": "b1ed0db2",
   "metadata": {},
   "outputs": [
    {
     "name": "stdout",
     "output_type": "stream",
     "text": [
      "a is greater than b\n"
     ]
    }
   ],
   "source": [
    "# Ternary Expression Conditional Statements in Python\n",
    "\n",
    "# Python program to demonstrate nested ternary operator \n",
    "a, b = 200, 33\n",
    "\n",
    "print (\"Both a and b are equal\" if a == b else \"a is greater than b\" if a > b else \"b is greater than a\") \n"
   ]
  },
  {
   "cell_type": "markdown",
   "id": "5747e1e6",
   "metadata": {},
   "source": [
    "### Iterators\n",
    "\n",
    "    1. For Loop\n",
    "    2. While Loop"
   ]
  },
  {
   "cell_type": "code",
   "execution_count": 15,
   "id": "642cc416",
   "metadata": {},
   "outputs": [
    {
     "name": "stdout",
     "output_type": "stream",
     "text": [
      "apple\n",
      "banana\n"
     ]
    }
   ],
   "source": [
    "# example for a \"For loop\"\n",
    "\n",
    "fruits = [\"apple\", \"banana\", \"cherry\"] # created list named fruits which contains the names of all fruits\n",
    "for x in fruits: # created a iterable named x\n",
    "  print(x)\n",
    "  if x == \"banana\":\n",
    "    break # this keyword helps us get out of the loop if its true"
   ]
  },
  {
   "cell_type": "code",
   "execution_count": 16,
   "id": "cc842642",
   "metadata": {},
   "outputs": [
    {
     "name": "stdout",
     "output_type": "stream",
     "text": [
      "apple\n",
      "cherry\n"
     ]
    }
   ],
   "source": [
    "# With the continue statement we can stop the current iteration of the loop, and continue with the next\n",
    "\n",
    "fruits = [\"apple\", \"banana\", \"cherry\"]\n",
    "for x in fruits:\n",
    "  if x == \"banana\":\n",
    "    continue\n",
    "  print(x)"
   ]
  },
  {
   "cell_type": "code",
   "execution_count": 17,
   "id": "9c5e3401",
   "metadata": {},
   "outputs": [
    {
     "name": "stdout",
     "output_type": "stream",
     "text": [
      "0\n",
      "1\n",
      "2\n",
      "3\n",
      "4\n",
      "5\n"
     ]
    }
   ],
   "source": [
    "# Range function:\n",
    "# starts from 0 goes upto n-1\n",
    "for x in range(6):\n",
    "  print(x)"
   ]
  },
  {
   "cell_type": "code",
   "execution_count": 18,
   "id": "139b92fc",
   "metadata": {},
   "outputs": [
    {
     "name": "stdout",
     "output_type": "stream",
     "text": [
      "1\n",
      "2\n",
      "3\n",
      "4\n",
      "5\n"
     ]
    }
   ],
   "source": [
    "# With the while loop we can execute a set of statements as long as a condition is true!\n",
    "# an example for the same:\n",
    "\n",
    "i = 1\n",
    "while i < 6:\n",
    "  print(i)\n",
    "  i += 1 # increment the value of i"
   ]
  },
  {
   "cell_type": "markdown",
   "id": "27adf7eb",
   "metadata": {},
   "source": [
    "### Functions\n",
    "\n",
    "A function is a block of code which only runs when it is called.You can pass data, known as parameters, into a function.\n",
    "\n",
    "Def is the Keyword used for function\n",
    "\n",
    "to call the fucntion just write the function_name()\n",
    "\n",
    "Define the function before calling it, otherwise it wont work!"
   ]
  },
  {
   "cell_type": "code",
   "execution_count": 19,
   "id": "36c82e06",
   "metadata": {},
   "outputs": [
    {
     "name": "stdout",
     "output_type": "stream",
     "text": [
      "this is a function\n"
     ]
    }
   ],
   "source": [
    "# example for a function\n",
    "\n",
    "def Example():\n",
    "    print(\"this is a function\")\n",
    "    \n",
    "Example()"
   ]
  },
  {
   "cell_type": "code",
   "execution_count": 20,
   "id": "2aff874c",
   "metadata": {},
   "outputs": [
    {
     "name": "stdout",
     "output_type": "stream",
     "text": [
      "Portagas Ace\n",
      "The youngest child is luffy\n",
      "The youngest child is Luffy\n",
      "His last name is Portagas\n",
      "3\n"
     ]
    }
   ],
   "source": [
    "# The terms parameter and argument can be used for the same thing: information that are passed into a function.\n",
    "\n",
    "def name(first_name, last_name):\n",
    "  print(first_name + \" \" + last_name)\n",
    "\n",
    "name(\"Portagas\", \"Ace\") # passing 2 argumnents\n",
    "\n",
    "# if we want to pass multple arguments and not sure what the could be we can use \"*\" :\n",
    "\n",
    "def multiple_arg(*kids):\n",
    "  print(\"The youngest child is \" + kids[2])\n",
    "\n",
    "multiple_arg(\"Ace\", \"Sabo\", \"luffy\")\n",
    "\n",
    "# Keyword Arguments\n",
    "# We can also send arguments with the key = value syntax, Order dosen't matter!\n",
    "\n",
    "def Keyword_arg(child3, child2, child1):\n",
    "  print(\"The youngest child is \" + child3)\n",
    "\n",
    "Keyword_arg(child1 = \"Ace\", child2 = \"Sabo\", child3 = \"Luffy\")\n",
    "\n",
    "# also if we are not aware of how many arguments are to be sent use \"**\"\n",
    "\n",
    "def multiple_Keyarg(**kid):\n",
    "  print(\"His last name is \" + kid[\"last_name\"])\n",
    "\n",
    "multiple_Keyarg(first_name = \"Ace\", last_name = \"Portagas\")\n",
    "\n",
    "# we can also return directly values from a function:\n",
    "\n",
    "def sum_of_numbers(a,b):\n",
    "    return(a+b) # return the value to the function call itself\n",
    "\n",
    "print(sum_of_numbers(1,2))"
   ]
  },
  {
   "cell_type": "code",
   "execution_count": 21,
   "id": "0d7b3d10",
   "metadata": {},
   "outputs": [
    {
     "name": "stdout",
     "output_type": "stream",
     "text": [
      "Average marks is:  67.8\n",
      "Grade is:  B\n"
     ]
    }
   ],
   "source": [
    "# small exercise:\n",
    "\n",
    "def grade(m):\n",
    "    if m >= 80:\n",
    "        return \"A\"\n",
    "    elif m >= 60 and m < 80:\n",
    "        return \"B\"\n",
    "    elif m >= 50 and m <60:\n",
    "        return \"C\"\n",
    "    elif m < 50:\n",
    "        return \"D\"\n",
    "    else:\n",
    "        return -1\n",
    "    \n",
    "def average(marks):\n",
    "    return sum(marks)/len(marks)\n",
    "\n",
    "marks = [55,64,75,80,65]\n",
    "\n",
    "avg = average(marks)\n",
    "print(\"Average marks is: \", avg)\n",
    "print(\"Grade is: \",grade(avg))"
   ]
  },
  {
   "cell_type": "markdown",
   "id": "7d2bcca7",
   "metadata": {},
   "source": [
    "### Lists"
   ]
  },
  {
   "cell_type": "markdown",
   "id": "42144a4e",
   "metadata": {},
   "source": [
    "#### Introduction to a List\n",
    "\n",
    "A collection of similar or different types of data items.\n",
    "\n",
    "a list is always displayed between square brackets [].\n",
    "\n",
    "They are mutable in nature.\n",
    "\n",
    "List items are ordered, changeable, and allow duplicate values."
   ]
  },
  {
   "cell_type": "code",
   "execution_count": 22,
   "id": "9f768be0",
   "metadata": {},
   "outputs": [
    {
     "name": "stdout",
     "output_type": "stream",
     "text": [
      "['harry', 1, 1, 1, 2.1, True, 'Godtier', 'Change me']\n",
      "['harry', 1, 1, 1, 2.1, True, 'Godtier', 'Changed!']\n",
      "['harry', 1, 1, 1, 2.1, True, 'Godtier', 'Changed!', ['Potter', 4, 5, 6.2]]\n"
     ]
    }
   ],
   "source": [
    "# example of a list\n",
    "\n",
    "listx = [1,2,3,4,5,6,7,8,9,10] # this list contains of all numbers from 1 to 10\n",
    "\n",
    "list_empty = [] # empty lists!\n",
    "\n",
    "# it can contain duplicates as well and also have diffrent datatypes as show below:\n",
    "\n",
    "list1 = [\"harry\",1,1,1,2.1,True,\"Godtier\",\"Change me\"]\n",
    "\n",
    "print(list1)\n",
    "\n",
    "list1[7] = \"Changed!\"\n",
    "\n",
    "print(list1) # as you can see in the output we have changed \"Change me\" to \"Changed!\"\n",
    "\n",
    "list2 = [[\"Potter\",4,5,6.2]]\n",
    "\n",
    "print(list1+list2) # concatenated both the lists, this will contain a list inside a list"
   ]
  },
  {
   "cell_type": "markdown",
   "id": "5fff2b9b",
   "metadata": {},
   "source": [
    "### Tuple\n",
    "\n",
    "Tuples are used to store multiple items in a single variable.\n",
    "\n",
    "They are immutable in nature.\n",
    "\n",
    "Tuples are written with round brackets.\n",
    "\n",
    "Tuple items are ordered, unchangeable, and allow duplicate values."
   ]
  },
  {
   "cell_type": "code",
   "execution_count": 23,
   "id": "ac197406",
   "metadata": {},
   "outputs": [
    {
     "name": "stdout",
     "output_type": "stream",
     "text": [
      "('abc', 34, True, 40, 'male')\n"
     ]
    }
   ],
   "source": [
    "tuple1 = (\"abc\", 34, True, 40, \"male\") # this tuple contains multiple datatypes!\n",
    "\n",
    "print(tuple1)"
   ]
  },
  {
   "cell_type": "code",
   "execution_count": 24,
   "id": "5479f735",
   "metadata": {},
   "outputs": [
    {
     "ename": "TypeError",
     "evalue": "'type' object does not support item assignment",
     "output_type": "error",
     "traceback": [
      "\u001b[1;31m---------------------------------------------------------------------------\u001b[0m",
      "\u001b[1;31mTypeError\u001b[0m                                 Traceback (most recent call last)",
      "\u001b[1;32m<ipython-input-24-55158a5bac98>\u001b[0m in \u001b[0;36m<module>\u001b[1;34m\u001b[0m\n\u001b[0;32m      3\u001b[0m \u001b[0mtuple2\u001b[0m \u001b[1;33m=\u001b[0m \u001b[1;33m(\u001b[0m\u001b[1;36m1\u001b[0m\u001b[1;33m,\u001b[0m\u001b[1;36m2\u001b[0m\u001b[1;33m,\u001b[0m\u001b[1;36m3\u001b[0m\u001b[1;33m,\u001b[0m\u001b[1;34m\"Change me\"\u001b[0m\u001b[1;33m)\u001b[0m\u001b[1;33m\u001b[0m\u001b[1;33m\u001b[0m\u001b[0m\n\u001b[0;32m      4\u001b[0m \u001b[1;33m\u001b[0m\u001b[0m\n\u001b[1;32m----> 5\u001b[1;33m \u001b[0mtuple\u001b[0m\u001b[1;33m[\u001b[0m\u001b[1;36m3\u001b[0m\u001b[1;33m]\u001b[0m \u001b[1;33m=\u001b[0m \u001b[1;34m\"Changed!\"\u001b[0m\u001b[1;33m\u001b[0m\u001b[1;33m\u001b[0m\u001b[0m\n\u001b[0m\u001b[0;32m      6\u001b[0m \u001b[0mprint\u001b[0m\u001b[1;33m(\u001b[0m\u001b[0mtuple2\u001b[0m\u001b[1;33m)\u001b[0m\u001b[1;33m\u001b[0m\u001b[1;33m\u001b[0m\u001b[0m\n",
      "\u001b[1;31mTypeError\u001b[0m: 'type' object does not support item assignment"
     ]
    }
   ],
   "source": [
    "# in this example we can see that tuples are immutable in nature\n",
    "\n",
    "tuple2 = (1,2,3,\"Change me\")\n",
    "\n",
    "tuple[3] = \"Changed!\"\n",
    "print(tuple2)"
   ]
  },
  {
   "cell_type": "markdown",
   "id": "1b714806",
   "metadata": {},
   "source": [
    "### Sets\n",
    "\n",
    "Sets are used to store multiple items in a single variable.\n",
    "\n",
    "A set is a collection which is unordered, unchangeable*, and unindexed.\n",
    "\n",
    "We can remove items and add new items but cannot replace any!\n",
    "\n",
    "Sets are written with curly brackets."
   ]
  },
  {
   "cell_type": "code",
   "execution_count": 25,
   "id": "4a7c4203",
   "metadata": {},
   "outputs": [
    {
     "name": "stdout",
     "output_type": "stream",
     "text": [
      "{'cherry', 'apple', 'banana'}\n",
      "{False, True, 2, 'cherry', 'apple', 'banana'}\n"
     ]
    }
   ],
   "source": [
    "# Set items can appear in a different order every time you use them, \n",
    "# and cannot be referred to by index or key.\n",
    "\n",
    "set1 = {\"apple\", \"banana\", \"cherry\"}\n",
    "\n",
    "print(set1)\n",
    "\n",
    "# as you can see true and 1 are the same so considered as duplicates!\n",
    "# same thing apllies with False and 0\n",
    "\n",
    "Set2 = {\"apple\", \"banana\", \"cherry\", True, 1,False,0, 2} \n",
    "\n",
    "print(Set2)\n",
    "\n"
   ]
  },
  {
   "cell_type": "markdown",
   "id": "bff2d754",
   "metadata": {},
   "source": [
    "### Dictionary\n",
    "\n",
    "Dictionaries are used to store data values in key:value pairs.\n",
    "    \n",
    "A dictionary is a collection which is ordered*, changeable and do not allow duplicates.\n",
    "\n",
    "When we say that dictionaries are ordered, it means that the items have a defined order, and that order will not change."
   ]
  },
  {
   "cell_type": "code",
   "execution_count": 26,
   "id": "9360876d",
   "metadata": {},
   "outputs": [
    {
     "name": "stdout",
     "output_type": "stream",
     "text": [
      "{'brand': 'Audi', 'model': 'R8', 'year': 1999}\n",
      "Audi\n",
      "{'brand': 'Ford', 'electric': False, 'year': 1964, 'colors': ['red', 'white', 'blue']}\n",
      "{'brand': 'Ford', 'electric': True, 'year': 1964, 'colors': ['red', 'white', 'blue']}\n"
     ]
    }
   ],
   "source": [
    "Dict1 = {\n",
    "  \"brand\": \"Audi\",\n",
    "  \"model\": \"R8\",\n",
    "  \"year\": 1999\n",
    "}\n",
    "\n",
    "print(Dict1)\n",
    "print(Dict1[\"brand\"])\n",
    "\n",
    "\n",
    "Dict2 = {\n",
    "  \"brand\": \"Ford\",\n",
    "  \"electric\": False,\n",
    "  \"year\": 1964,\n",
    "  \"colors\": [\"red\", \"white\", \"blue\"]\n",
    "}\n",
    "\n",
    "# they can have different datatypes a s well\n",
    "\n",
    "print(Dict2)\n",
    "\n",
    "Dict2[\"electric\"] = True # this is how we can chage the value in a dictionary!\n",
    "\n",
    "print(Dict2)"
   ]
  },
  {
   "cell_type": "code",
   "execution_count": 27,
   "id": "01e10992",
   "metadata": {},
   "outputs": [
    {
     "name": "stdout",
     "output_type": "stream",
     "text": [
      "{'First': 1, 'Second': 1, 'third': 1}\n"
     ]
    }
   ],
   "source": [
    "Keys = [\"First\",\"Second\",\"third\"]\n",
    "\n",
    "Values = 1\n",
    "# creates a new dictionary and provides the same value for all the different jeys mentioned!\n",
    "Dict3 = dict.fromkeys(Keys,Values)\n",
    "\n",
    "print(Dict3)"
   ]
  },
  {
   "cell_type": "markdown",
   "id": "ee90c284",
   "metadata": {},
   "source": [
    "### Exception Handling\n",
    "\n",
    "    1. Try --> Lets you test a block of code for errors\n",
    "    2. Except --> This block lets you handle the error\n",
    "    3. Finally --> This block lets you execute code, regardless of the result of the try- and except blocks\n",
    "    \n",
    "When an error occurs, or exception as we call it, Python will normally stop and generate an error message."
   ]
  },
  {
   "cell_type": "code",
   "execution_count": 28,
   "id": "87f8b330",
   "metadata": {},
   "outputs": [
    {
     "name": "stdout",
     "output_type": "stream",
     "text": [
      "An exception occurred\n"
     ]
    }
   ],
   "source": [
    "# we have not defined the variable \"new\" so it should raise an error!\n",
    "try:\n",
    "  print(val)\n",
    "except:\n",
    "  print(\"An exception occurred\")"
   ]
  },
  {
   "cell_type": "markdown",
   "id": "d489dbb7",
   "metadata": {},
   "source": [
    "#### Many Exceptions\n",
    "\n",
    "You can define as many exception blocks as you want"
   ]
  },
  {
   "cell_type": "code",
   "execution_count": 29,
   "id": "da5fa0ad",
   "metadata": {},
   "outputs": [
    {
     "name": "stdout",
     "output_type": "stream",
     "text": [
      "Variable val is not defined\n"
     ]
    }
   ],
   "source": [
    "try:\n",
    "  print(val)\n",
    "except NameError:\n",
    "  print(\"Variable val is not defined\")\n",
    "except:\n",
    "  print(\"Something else went wrong\")"
   ]
  },
  {
   "cell_type": "code",
   "execution_count": 30,
   "id": "325a817d",
   "metadata": {},
   "outputs": [
    {
     "name": "stdout",
     "output_type": "stream",
     "text": [
      "Hey, you cannot divide by Zero! division by zero\n"
     ]
    }
   ],
   "source": [
    "num1 = 5\n",
    "num2 = 0\n",
    "\n",
    "try:\n",
    "    print(num1/num2)\n",
    "except Exception as e: # Exception name can handle all types or error!\n",
    "    print(\"Hey, you cannot divide by Zero!\",e)\n"
   ]
  },
  {
   "cell_type": "code",
   "execution_count": 31,
   "id": "5dafbee3",
   "metadata": {},
   "outputs": [
    {
     "name": "stdout",
     "output_type": "stream",
     "text": [
      "Hello\n",
      "Nothing went wrong\n"
     ]
    }
   ],
   "source": [
    "# You can use the else keyword to define a block of code to be executed if no errors were raised\n",
    "\n",
    "try:\n",
    "  print(\"Hello\")\n",
    "except:\n",
    "  print(\"Something went wrong\")\n",
    "else:\n",
    "  print(\"Nothing went wrong\")"
   ]
  },
  {
   "cell_type": "markdown",
   "id": "d57bfb72",
   "metadata": {},
   "source": [
    "#### Finally Block\n",
    "\n",
    "The finally block, if specified, will be executed regardless if the try block raises an error or not."
   ]
  },
  {
   "cell_type": "code",
   "execution_count": 32,
   "id": "0b94add5",
   "metadata": {},
   "outputs": [
    {
     "name": "stdout",
     "output_type": "stream",
     "text": [
      "Something went wrong\n",
      "The 'try except' is finished\n"
     ]
    }
   ],
   "source": [
    "try:\n",
    "  print(Val)\n",
    "except:\n",
    "  print(\"Something went wrong\")\n",
    "finally:\n",
    "  print(\"The 'try except' is finished\")"
   ]
  },
  {
   "cell_type": "markdown",
   "id": "e3e8b938",
   "metadata": {},
   "source": [
    "#### Raise an exception\n",
    "\n",
    "The raise keyword is used to raise an exception.You can define what kind of error to raise, and the text to print to the user."
   ]
  },
  {
   "cell_type": "code",
   "execution_count": 33,
   "id": "98b54fff",
   "metadata": {},
   "outputs": [
    {
     "ename": "TypeError",
     "evalue": "Only integers are allowed",
     "output_type": "error",
     "traceback": [
      "\u001b[1;31m---------------------------------------------------------------------------\u001b[0m",
      "\u001b[1;31mTypeError\u001b[0m                                 Traceback (most recent call last)",
      "\u001b[1;32m<ipython-input-33-0c38c008464f>\u001b[0m in \u001b[0;36m<module>\u001b[1;34m\u001b[0m\n\u001b[0;32m      2\u001b[0m \u001b[1;33m\u001b[0m\u001b[0m\n\u001b[0;32m      3\u001b[0m \u001b[1;32mif\u001b[0m \u001b[1;32mnot\u001b[0m \u001b[0mtype\u001b[0m\u001b[1;33m(\u001b[0m\u001b[0mstr_1\u001b[0m\u001b[1;33m)\u001b[0m \u001b[1;32mis\u001b[0m \u001b[0mint\u001b[0m\u001b[1;33m:\u001b[0m\u001b[1;33m\u001b[0m\u001b[1;33m\u001b[0m\u001b[0m\n\u001b[1;32m----> 4\u001b[1;33m   \u001b[1;32mraise\u001b[0m \u001b[0mTypeError\u001b[0m\u001b[1;33m(\u001b[0m\u001b[1;34m\"Only integers are allowed\"\u001b[0m\u001b[1;33m)\u001b[0m\u001b[1;33m\u001b[0m\u001b[1;33m\u001b[0m\u001b[0m\n\u001b[0m",
      "\u001b[1;31mTypeError\u001b[0m: Only integers are allowed"
     ]
    }
   ],
   "source": [
    "str_1 = \"hello\"\n",
    "\n",
    "if not type(str_1) is int:\n",
    "  raise TypeError(\"Only integers are allowed\")"
   ]
  },
  {
   "cell_type": "markdown",
   "id": "17345e8d",
   "metadata": {},
   "source": [
    "### Types of error\n",
    "\n",
    "    1. Compile Time (like Syntax error)\n",
    "    2. Logical (when the logics is wrong)\n",
    "    3. Run Time (User makes an error)"
   ]
  },
  {
   "cell_type": "markdown",
   "id": "4197f541",
   "metadata": {},
   "source": [
    "### Object Oriented Programming\n",
    "\n",
    "- To map with real world scenarios.\n",
    "\n",
    "- Object --> a basic unit of code that is created from a class and encapsulates both data and behavior\n",
    "- Class --> it is a blueprint for creating Objects\n"
   ]
  },
  {
   "cell_type": "code",
   "execution_count": 34,
   "id": "1228d3fc",
   "metadata": {},
   "outputs": [
    {
     "name": "stdout",
     "output_type": "stream",
     "text": [
      "Nemesis\n"
     ]
    }
   ],
   "source": [
    "# example of a class\n",
    "\n",
    "class Student: # this is a class defenition\n",
    "    name = \"Nemesis\"\n",
    "\n",
    "s1 = Student() # this is an object creation\n",
    "\n",
    "print(s1.name)"
   ]
  },
  {
   "cell_type": "markdown",
   "id": "f56db119",
   "metadata": {},
   "source": [
    "#### Constructors\n",
    "\n",
    "- this is a constructor \"__init__\" which is always executed when the object is being initiated.\n",
    "- obj attribu has higher precedence compared to class attribute\n"
   ]
  },
  {
   "cell_type": "code",
   "execution_count": 35,
   "id": "5d56b2c4",
   "metadata": {},
   "outputs": [
    {
     "name": "stdout",
     "output_type": "stream",
     "text": [
      "Nemesis \n",
      " ABC\n"
     ]
    }
   ],
   "source": [
    "class Student:\n",
    "    collegename = \"ABC\" # class attribute\n",
    "    def __init__(self,name): # the self parameter is a refrerence to the current instance of the class\n",
    "        self.name = name # if slef is present then it is an instance/object attribute\n",
    "\n",
    "s1 = Student(\"Nemesis\") # this is an object creation\n",
    "print(s1.name,\"\\n\",s1.collegename)"
   ]
  },
  {
   "cell_type": "markdown",
   "id": "d6c4cfde",
   "metadata": {},
   "source": [
    "#### Methods\n",
    "\n",
    "- methods are functions that belong to objects\n",
    "- Static Methods: they dont use the self parameter (works at class level) need to add @staticmethod\n"
   ]
  },
  {
   "cell_type": "code",
   "execution_count": 36,
   "id": "77e3eaaa",
   "metadata": {},
   "outputs": [
    {
     "name": "stdout",
     "output_type": "stream",
     "text": [
      "this is a method Nemesis\n"
     ]
    }
   ],
   "source": [
    "class student:\n",
    "    def __init__(self,name):\n",
    "        self.name = name\n",
    "        \n",
    "    def method1(self): # creating a method inside a class\n",
    "        print(\"this is a method\",self.name)\n",
    "        \n",
    "s1 = student(\"Nemesis\")\n",
    "s1.method1() # calling that method as and when required"
   ]
  },
  {
   "cell_type": "markdown",
   "id": "be650b19",
   "metadata": {},
   "source": [
    "### Major OOP's Concepts : -\n",
    "\n",
    "- Abstraction\n",
    "    - Hiding the implementation details of a class and only showing the essential features to the user.\n",
    "- Encapusulation\n",
    "    - wrapping up of data and functions into a single unit\n",
    "- Inheritence\n",
    "    - Inheritance allows us to define a class that inherits all the methods and properties from another class.\n",
    "    - Parent class is the class being inherited from, also called base class.\n",
    "    - Child class is the class that inherits from another class, also called derived class.\n",
    "    - To create a class that inherits the functionality from another class, send the parent class as a parameter when creating the child class\n",
    "- Polymorphism\n",
    "    -  It refers to the use of a single type entity (method, operator or object) to represent different types in different scenarios.\n",
    "    - For integer data types, + operator is used to perform arithmetic addition operation and For String data types it is used for concatenation.\n"
   ]
  },
  {
   "cell_type": "code",
   "execution_count": 37,
   "id": "2fbcac83",
   "metadata": {},
   "outputs": [
    {
     "name": "stdout",
     "output_type": "stream",
     "text": [
      "Satyam 102\n"
     ]
    }
   ],
   "source": [
    "# A Python program to demonstrate inheritance\n",
    "class Person(object):\n",
    "\n",
    "# Constructor\n",
    "    def __init__(self, name, id):\n",
    "        self.name = name\n",
    "        self.id = id\n",
    "\n",
    "# To check if this person is an employee\n",
    "    def Display(self):\n",
    "        print(self.name, self.id)\n",
    "\n",
    "\n",
    "# Driver code\n",
    "emp = Person(\"Satyam\", 102) # An Object of Person\n",
    "emp.Display()\n",
    "\n"
   ]
  },
  {
   "cell_type": "code",
   "execution_count": 38,
   "id": "6f06d687",
   "metadata": {},
   "outputs": [
    {
     "name": "stdout",
     "output_type": "stream",
     "text": [
      "Mayank 103\n",
      "Emp class called\n"
     ]
    }
   ],
   "source": [
    "class Emp(Person): # this is a child class\n",
    "\n",
    "    def Print(self):\n",
    "        print(\"Emp class called\")\n",
    "\t\n",
    "Emp_details = Emp(\"Mayank\", 103)\n",
    "\n",
    "# calling parent class function\n",
    "Emp_details.Display()\n",
    "\n",
    "# Calling child class function\n",
    "Emp_details.Print()\n"
   ]
  },
  {
   "cell_type": "code",
   "execution_count": 39,
   "id": "54504eec",
   "metadata": {},
   "outputs": [
    {
     "name": "stdout",
     "output_type": "stream",
     "text": [
      "3\n",
      "Python Programming\n"
     ]
    }
   ],
   "source": [
    "# A python program to illustrate polymorphism\n",
    "\n",
    "num1 = 1\n",
    "num2 = 2\n",
    "print(num1+num2)\n",
    "\n",
    "str1 = \"Python\"\n",
    "str2 = \"Programming\"\n",
    "print(str1+\" \"+str2)\n"
   ]
  },
  {
   "cell_type": "markdown",
   "id": "244ef008",
   "metadata": {},
   "source": [
    "### Exercises"
   ]
  },
  {
   "cell_type": "markdown",
   "id": "068c86d5",
   "metadata": {},
   "source": [
    "#### 1.  Write a program that asks the user to enter size of the list, then do the following\n",
    "\n",
    "(a) if size of the list is less than 4 then print a message to user \"Invalid size and enter a size more than 4\". The program will continue from begining.\n",
    "\n",
    "(b) After taking valid size , program should take list items from user and create user defined list. \n",
    "\n",
    "(c) Use the choice() function to print out random item from the list.\n",
    "\n",
    "(d) Use the sample() function to print out three random items from the list.\n",
    "\n",
    "(e) Use the shuffle() function to reorder the list and then print out the list."
   ]
  },
  {
   "cell_type": "code",
   "execution_count": 44,
   "id": "69005f19",
   "metadata": {},
   "outputs": [
    {
     "name": "stdout",
     "output_type": "stream",
     "text": [
      "Enter the size of the list: dqd\n",
      "invalid literal for int() with base 10: 'dqd', Please enter a valid integer.\n"
     ]
    }
   ],
   "source": [
    "import random\n",
    "\n",
    "try:\n",
    "    size = int(input(\"Enter the size of the list: \"))\n",
    "    list1 = []\n",
    "\n",
    "    if size < 4:\n",
    "        print(\"Invalid size and enter a size more than 4\")\n",
    "    else:\n",
    "        for i in range(size):\n",
    "            list1.append(int(input(f\"enter the element {i}: \")))\n",
    "\n",
    "        print(random.choice(list1))\n",
    "        print(random.sample(list1,k = 3))\n",
    "        print(random.shuffle(list1))\n",
    "        \n",
    "        \n",
    "except Exception as e:\n",
    "    print(f\"{e}, Please enter a valid integer.\")\n",
    "    \n",
    "    \n",
    "    \n",
    "    "
   ]
  },
  {
   "cell_type": "code",
   "execution_count": null,
   "id": "fcd1d1c9",
   "metadata": {},
   "outputs": [],
   "source": []
  }
 ],
 "metadata": {
  "kernelspec": {
   "display_name": "Python 3",
   "language": "python",
   "name": "python3"
  },
  "language_info": {
   "codemirror_mode": {
    "name": "ipython",
    "version": 3
   },
   "file_extension": ".py",
   "mimetype": "text/x-python",
   "name": "python",
   "nbconvert_exporter": "python",
   "pygments_lexer": "ipython3",
   "version": "3.8.8"
  }
 },
 "nbformat": 4,
 "nbformat_minor": 5
}
